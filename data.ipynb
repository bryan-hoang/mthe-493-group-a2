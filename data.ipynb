{
 "cells": [
  {
   "cell_type": "code",
   "execution_count": 1,
   "metadata": {},
   "outputs": [],
   "source": [
    "import json\n",
    "import matplotlib.pyplot as plt\n",
    "from statistics import mean"
   ]
  },
  {
   "cell_type": "code",
   "execution_count": 2,
   "metadata": {},
   "outputs": [],
   "source": [
    "dump_paths = [\n",
    "    \"./logs/8wrk_system/varied_beta_time-const1_fees-smin128-80cycle/dump.json\",\n",
    "    \"./logs/8wrk_system/varied_beta_time-rand_fees-smin128-80cycle/dump.json\",\n",
    "    \"./logs/logs_3_full/dump.json\",\n",
    "]"
   ]
  },
  {
   "cell_type": "code",
   "execution_count": 3,
   "metadata": {},
   "outputs": [],
   "source": [
    "all_data = []\n",
    "for path in dump_paths:\n",
    "    with open(path, \"r\") as f:\n",
    "        data = json.load(f)\n",
    "    vals = list(d for d in data.values() if type(d) == dict)\n",
    "    all_data += vals"
   ]
  },
  {
   "cell_type": "code",
   "execution_count": 13,
   "metadata": {},
   "outputs": [],
   "source": [
    "\n",
    "bins = list(set((d[\"MAX_TIME\"] for d in all_data)))\n",
    "bins.sort()"
   ]
  },
  {
   "cell_type": "code",
   "execution_count": 14,
   "metadata": {},
   "outputs": [],
   "source": [
    "train_time_dict = {b: [x[\"training_duration\"] / b for x in all_data if x[\"MAX_TIME\"] == b] for b in bins}\n",
    "network_time_dict = {b: [x[\"send_data_duration\"] / b for x in all_data if x[\"MAX_TIME\"] == b] for b in bins}"
   ]
  },
  {
   "cell_type": "code",
   "execution_count": 15,
   "metadata": {},
   "outputs": [],
   "source": [
    "avg_train_times = [mean(train_time_dict[b]) for b in bins]\n",
    "avg_network_times = [mean(network_time_dict[b]) for b in bins]"
   ]
  },
  {
   "cell_type": "code",
   "execution_count": 16,
   "metadata": {},
   "outputs": [
    {
     "data": {
      "text/plain": [
       "[18.573692957560223,\n",
       " 8.775274344494468,\n",
       " 6.310753411513108,\n",
       " 3.5440824544997445,\n",
       " 2.6775402300698414,\n",
       " 0.3574013705253601,\n",
       " 0.3114926255411572,\n",
       " 0.29094374115977967,\n",
       " 0.2753970671445131,\n",
       " 0.2585821116964022,\n",
       " 0.24088771075010298]"
      ]
     },
     "execution_count": 16,
     "metadata": {},
     "output_type": "execute_result"
    }
   ],
   "source": [
    "avg_network_times"
   ]
  },
  {
   "cell_type": "code",
   "execution_count": 19,
   "metadata": {},
   "outputs": [
    {
     "data": {
      "image/png": "[encoded data removed]",
      "text/plain": [
       "<Figure size 432x288 with 1 Axes>"
      ]
     },
     "metadata": {
      "needs_background": "light"
     },
     "output_type": "display_data"
    }
   ],
   "source": [
    "fig, ax = plt.subplots()\n",
    "width = 0.35\n",
    "\n",
    "labels = [str(b) for b in bins]\n",
    "\n",
    "ax.bar(labels, avg_train_times, width, label='training-time to T')\n",
    "ax.bar(labels, avg_network_times, width, bottom=avg_train_times,\n",
    "       label='network-time to T')\n",
    "\n",
    "ax.set_ylabel('Actual-to-expected duration')\n",
    "ax.set_xlabel(\"Max time, T, seconds\")\n",
    "ax.set_title('Ratios of actual time to expected time')\n",
    "ax.legend()\n",
    "\n",
    "plt.show()"
   ]
  },
  {
   "cell_type": "code",
   "execution_count": null,
   "metadata": {},
   "outputs": [],
   "source": []
  }
 ],
 "metadata": {
  "interpreter": {
   "hash": "91f0964859a2352e3f44f14f426e84708d73e71b4efa26ade3f926133492d5d6"
  },
  "kernelspec": {
   "display_name": "Python 3.9.7 ('mthe493')",
   "language": "python",
   "name": "python3"
  },
  "language_info": {
   "codemirror_mode": {
    "name": "ipython",
    "version": 3
   },
   "file_extension": ".py",
   "mimetype": "text/x-python",
   "name": "python",
   "nbconvert_exporter": "python",
   "pygments_lexer": "ipython3",
   "version": "3.9.7"
  },
  "orig_nbformat": 4
 },
 "nbformat": 4,
 "nbformat_minor": 2
}
